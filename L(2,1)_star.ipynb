{
 "cells": [
  {
   "cell_type": "code",
   "execution_count": 1,
   "metadata": {},
   "outputs": [],
   "source": [
    "import matplotlib.pyplot as plt\n",
    "import networkx as nx\n",
    "from networkx.drawing.nx_pydot import graphviz_layout"
   ]
  },
  {
   "cell_type": "code",
   "execution_count": 7,
   "metadata": {},
   "outputs": [],
   "source": [
    "def create_star(m):\n",
    "    \"\"\"\n",
    "    Return star graph\n",
    "\n",
    "    Args:\n",
    "        m: number of children of the root\n",
    "\n",
    "    Returns:\n",
    "        A networkx graph of a star\n",
    "    \"\"\"\n",
    "    G = nx.star_graph(m)\n",
    "    return G"
   ]
  },
  {
   "cell_type": "code",
   "execution_count": 26,
   "metadata": {},
   "outputs": [],
   "source": [
    "def labeling_star(star):\n",
    "    \"\"\"\n",
    "    Algorithm for L(2,1) labeling any star graph\n",
    "\n",
    "    Args:\n",
    "        tree: a networkx star graph\n",
    "\n",
    "    Returns:\n",
    "        A dictionary of labels for every node of the star provided\n",
    "    \"\"\"\n",
    "    node_list = list(nx.nodes(star))# A list of numbers with each number representing a node\n",
    "    # Creates a dictionary with the keys being the nodes number and the value of the frequency assigned to the node\n",
    "    number_of_nodes=len(node_list) # Total number of nodes including the root\n",
    "    label_list = dict.fromkeys(node_list) # Create dictionary of nodes\n",
    "    labels=[] # List of frequency labels for nodes\n",
    "    labels.append(0) # root node\n",
    "    for i in range(number_of_nodes-1):\n",
    "        labels.append(i+2) # Add labels for nodes connected to the root\n",
    "    for i in range(number_of_nodes): # converts labels into a dictionary\n",
    "        label_list[i]=labels[i]\n",
    "    return label_list # Return labeling dictionary"
   ]
  },
  {
   "cell_type": "code",
   "execution_count": 27,
   "metadata": {},
   "outputs": [
    {
     "name": "stdout",
     "output_type": "stream",
     "text": [
      "{0: 0, 1: 2, 2: 3, 3: 4, 4: 5, 5: 6, 6: 7, 7: 8, 8: 9}\n",
      "[0, 2, 3, 4, 5, 6, 7, 8, 9]\n",
      "The span is: 10\n"
     ]
    },
    {
     "data": {
      "image/png": "[encoded data removed]",
      "text/plain": [
       "<Figure size 432x288 with 1 Axes>"
      ]
     },
     "metadata": {},
     "output_type": "display_data"
    }
   ],
   "source": [
    "number_of_nodes=8 # Number of nodes connected to the root of the star\n",
    "star = create_star(number_of_nodes) # Create star\n",
    "label_list = labeling_star(star) # L(2,1) labeling star\n",
    "frequencies_list = list(label_list.values()) # list of the frequencies assigned to nodes\n",
    "print(frequencies_list) # Print out list\n",
    "pos = nx.spring_layout(star) # Create NetworkX layout\n",
    "nx.draw_networkx(star,pos,with_labels=False) # Create NetworkX graph visual\n",
    "nx.draw_networkx_labels(star, pos, label_list, font_size=10) # Create frequency labels NetworkX graph visual\n",
    "span=max(frequencies_list)-min(frequencies_list)+1 #The span of frequencies used including 0\n",
    "print(\"The span is:\", span) # Print span"
   ]
  }
 ],
 "metadata": {
  "kernelspec": {
   "display_name": "Python 3",
   "language": "python",
   "name": "python3"
  },
  "language_info": {
   "codemirror_mode": {
    "name": "ipython",
    "version": 3
   },
   "file_extension": ".py",
   "mimetype": "text/x-python",
   "name": "python",
   "nbconvert_exporter": "python",
   "pygments_lexer": "ipython3",
   "version": "3.9.13"
  },
  "orig_nbformat": 4,
  "vscode": {
   "interpreter": {
    "hash": "934c2a8cde709b1b8b86eed097aa0e72366bc61e721eaa4ffba0664bbaff2fad"
   }
  }
 },
 "nbformat": 4,
 "nbformat_minor": 2
}

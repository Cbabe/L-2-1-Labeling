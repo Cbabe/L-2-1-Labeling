{
 "cells": [
  {
   "cell_type": "markdown",
   "metadata": {},
   "source": [
    "Introducing trees:"
   ]
  },
  {
   "cell_type": "code",
   "execution_count": 17,
   "metadata": {},
   "outputs": [],
   "source": [
    "import networkx as nx \n",
    "import matplotlib.pyplot as plt \n",
    "\n",
    "\n",
    "def create_cycle(num):\n",
    "    \"\"\"\n",
    "    Return cycle graph\n",
    "\n",
    "    Args:\n",
    "        num: number of vertices\n",
    "\n",
    "    Returns:\n",
    "        A networkx graph of a cycle with num vertices.\n",
    "    \"\"\"\n",
    "    network = nx.Graph() # Creating the graph and adding nodes\n",
    "    nodes = range(num) # Creating list of number labels for each node\n",
    "    network.add_nodes_from(nodes) # Creating nodes\n",
    "    nx.add_cycle(network, nx.nodes(network)) # Adding edges to make a cycle out of all nodes in the network\n",
    "    #nx.draw_networkx(network, with_labels=True) # Draws existing graph\n",
    "    return nx.Graph(network)\n"
   ]
  },
  {
   "cell_type": "markdown",
   "metadata": {},
   "source": [
    "Create a tree object"
   ]
  },
  {
   "cell_type": "code",
   "execution_count": 64,
   "metadata": {},
   "outputs": [
    {
     "name": "stdout",
     "output_type": "stream",
     "text": [
      "               |2|<\n",
      "          |6|<\n",
      "               |8|<\n",
      "     |4|<\n",
      "               |2|<\n",
      "          |8|<\n",
      "               |6|<\n",
      "|2|<\n",
      "               |2|<\n",
      "          |4|<\n",
      "               |8|<\n",
      "     |6|<\n",
      "               |2|<\n",
      "          |8|<\n",
      "               |4|<\n",
      "No of unique labels are: 4\n"
     ]
    }
   ],
   "source": [
    "class Node:\n",
    "    def __init__(self, value):\n",
    "        self.value = value\n",
    "        self.parent = None\n",
    "        self.left = None\n",
    "        self.right = None\n",
    "\n",
    "def getNewNode(val):\n",
    "    newNode = Node(val)\n",
    "    return newNode\n",
    "\n",
    "def buildPerfectBT_helper(preStart, preEnd, pre):\n",
    "    if (preStart > preEnd):\n",
    "        return None\n",
    "    root = getNewNode(pre[preStart])\n",
    "    if (preStart == preEnd):\n",
    "        return root\n",
    "    leftPreStart = preStart + 1\n",
    "    rightPreStart = leftPreStart + int((preEnd - leftPreStart + 1) / 2)\n",
    "    leftPreEnd = rightPreStart - 1\n",
    "    rightPreEnd = preEnd\n",
    "    leftchild = buildPerfectBT_helper(leftPreStart, leftPreEnd, pre)\n",
    "    root.left = leftchild\n",
    "    leftchild.parent = root\n",
    "    rightchild = buildPerfectBT_helper(rightPreStart, rightPreEnd, pre)\n",
    "    root.right = rightchild\n",
    "    rightchild.parent = root\n",
    "    return root\n",
    "\n",
    "def buildPerfectBT(pre, size):\n",
    "    return buildPerfectBT_helper(0, size - 1, pre)\n",
    "\n",
    "def print2DTree(root, space=0, LEVEL_SPACE = 5):\n",
    "    if (root == None): return\n",
    "    space += LEVEL_SPACE\n",
    "    print2DTree(root.right, space)\n",
    "    for i in range(LEVEL_SPACE, space): print(end = \" \")  \n",
    "    print(\"|\" + str(root.value) + \"|<\")\n",
    "    print2DTree(root.left, space)\n",
    "\n",
    "def traverse2DTree(root):\n",
    "    if (root == None): return\n",
    "    bad_list = []\n",
    "    if root.parent != None: \n",
    "        bad_list.append(root.parent.value)\n",
    "        if root.parent.parent != None: \n",
    "            bad_list.append(root.parent.parent.value)\n",
    "        if root.parent.left != None:\n",
    "            bad_list.append(root.parent.left.value)\n",
    "        if root.parent.right != None:\n",
    "            bad_list.append(root.parent.right.value)\n",
    "    if root.value == 0:\n",
    "        for i in range(10):\n",
    "            if (i+1)*2 not in bad_list:\n",
    "                root.value = (i+1)*2\n",
    "                break\n",
    "    traverse2DTree(root.right)\n",
    "    traverse2DTree(root.left)\n",
    "\n",
    "def returnUniqueLabels(root, uniqueLabels):\n",
    "    if (root == None): return\n",
    "    if (root.value not in uniqueLabels):\n",
    "        uniqueLabels.append(root.value)\n",
    "    returnUniqueLabels(root.right, uniqueLabels)\n",
    "    returnUniqueLabels(root.left, uniqueLabels)\n",
    "\n",
    "a = [0] * 15\n",
    "root = buildPerfectBT(a, len(a))\n",
    "traverse2DTree(root)\n",
    "print2DTree(root)  \n",
    "\n",
    "uniqueLabels = []\n",
    "returnUniqueLabels(root, uniqueLabels)\n",
    "print(\"No of unique labels are:\", len(uniqueLabels))"
   ]
  }
 ],
 "metadata": {
  "kernelspec": {
   "display_name": "Python 3.10.6 64-bit",
   "language": "python",
   "name": "python3"
  },
  "language_info": {
   "codemirror_mode": {
    "name": "ipython",
    "version": 3
   },
   "file_extension": ".py",
   "mimetype": "text/x-python",
   "name": "python",
   "nbconvert_exporter": "python",
   "pygments_lexer": "ipython3",
   "version": "3.10.6"
  },
  "orig_nbformat": 4,
  "vscode": {
   "interpreter": {
    "hash": "916dbcbb3f70747c44a77c7bcd40155683ae19c65e1c03b4aa3499c5328201f1"
   }
  }
 },
 "nbformat": 4,
 "nbformat_minor": 2
}

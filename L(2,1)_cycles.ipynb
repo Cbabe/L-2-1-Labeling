{
 "cells": [
  {
   "cell_type": "markdown",
   "metadata": {},
   "source": [
    "As part of our CDD, we decided to explore the L(2,1) labeling problem. This problem is also known as “Radio Coloring” because of its applications in assigning frequencies to different radio stations. There are a few different rules related to this problem. \n",
    "\n",
    "1. Each vertices will be colored with a number.\n",
    "2. If two vertices are neighbors and connected by one edge, the difference in their labels must be at least 2.\n",
    "3. For every vertex, if you go out two edges it shouldn’t share the same label as the vertex on the other end. The simpler way of explaining this is if you have a list of neighbors for every vertex, the neighbors of those neighbors can’t have the same label as the original vertex.\n",
    "\n",
    "As mentioned the application of this problem is largely focus on assigning frequencies to stations so that there isn't interference caused by stations which are too close either in distance or in frequency.  The original conjecture which people have sough to prove is that if a graph G has a maximum degree of $k$, the most labels needed would be $k^{2}$. While this has yet to be proven for every graph, many partial results have been achieved. \n",
    "\n",
    "- Chang and Kuo proved that any L(d,1)-labeling problem can be generalised to be solved in $k^{2} + (d-1)k$ labels which means for L(2,1) labeling it would be $k^{2} + k$\n",
    "- The original conjecture has been proven for 2-regular graphs (Griggs and Yeh), 3-regular Hamiltonian graphs (Füredi and Kang), and for the incidence graphs of projective planes (Füredi and Kang).\n",
    "- Griggs and Yeh also proved that for any L(2d, d) labeling problem the maximum amount of labels can be obtained from the L(2,1) labeling of the same graph.\n",
    "There have been specifics bounds proven for special classes of graphs such as paths, cycles, wheels, etc.\n",
    "\n",
    "For our CDD, we wanted to do something coding related as well, so we decided to create an algorithm that would label any cycle graph with the minimum number of labels possible."
   ]
  },
  {
   "cell_type": "code",
   "execution_count": 2,
   "metadata": {},
   "outputs": [],
   "source": [
    "import networkx as nx \n",
    "import matplotlib.pyplot as plt \n",
    "\n",
    "\n",
    "def create_cycle(num):\n",
    "    \"\"\"\n",
    "    Return cycle graph\n",
    "\n",
    "    Args:\n",
    "        num: number of vertices\n",
    "\n",
    "    Returns:\n",
    "        A networkx graph of a cycle with num vertices.\n",
    "    \"\"\"\n",
    "    network = nx.Graph() # Creating the graph and adding nodes\n",
    "    nodes = range(num) # Creating list of number labels for each node\n",
    "    network.add_nodes_from(nodes) # Creating nodes\n",
    "    nx.add_cycle(network, nx.nodes(network)) # Adding edges to make a cycle out of all nodes in the network\n",
    "    #nx.draw_networkx(network, with_labels=True) # Draws existing graph\n",
    "    return nx.Graph(network)\n"
   ]
  },
  {
   "cell_type": "markdown",
   "metadata": {},
   "source": [
    "Once we created our cycle, we started thinking about the best way to make sure we are meeting all the requirements for labeling. We thought of two different paths here. We could iterate through every element in a list of potential labels and create a set of conditionals to check if it works. If it doesn't work, it would move onto the next label in the list and continue onward until it finds a label which satisfies the conditions. The second method we thought of was attempting to narrow the list of possible labels for each node and then going based off that. Since we set up our labels as a dictionary and updated it after every change, we knew that we could access what the already assigned labels were for past vertices. In this method, we would create a list of values the vertex could not be labeled with and then take those values out of the possible labels list. After that, we choose the lowest possible value to label the node. We ended up implementing the second method since we felt it would be more efficient for larger graphs."
   ]
  },
  {
   "cell_type": "code",
   "execution_count": 3,
   "metadata": {},
   "outputs": [
    {
     "name": "stdout",
     "output_type": "stream",
     "text": [
      "[0, 2, 4, 0, 2, 4, 1, 3]\n"
     ]
    },
    {
     "data": {
      "image/png": "[encoded data removed]",
      "text/plain": [
       "<Figure size 432x288 with 1 Axes>"
      ]
     },
     "metadata": {},
     "output_type": "display_data"
    },
    {
     "name": "stdout",
     "output_type": "stream",
     "text": [
      "No of unique labels are: 5\n",
      "The span is: 5\n"
     ]
    }
   ],
   "source": [
    "network = create_cycle(8)\n",
    "node_list = list(nx.nodes(network))\n",
    "label_list = dict.fromkeys(node_list)\n",
    "\n",
    "for i in node_list:\n",
    "    neighbors_list = list(nx.all_neighbors(network, i))\n",
    "    bad_list=[]\n",
    "    for k in neighbors_list:\n",
    "        if label_list[k] is not None:\n",
    "            bad_list.append(label_list[k])\n",
    "            bad_list.append(label_list[k]+1)\n",
    "            bad_list.append(label_list[k]-1)\n",
    "        secondary_neighbor = list(nx.all_neighbors(network, k))\n",
    "        for j in secondary_neighbor:\n",
    "            if label_list[j] is not None:\n",
    "                bad_list.append(label_list[j])\n",
    "    if bad_list == []:\n",
    "         label_list[i]=0\n",
    "    else:\n",
    "        possible_color=range(0,max(bad_list)+2)\n",
    "        labels = [x for x in possible_color if x not in bad_list]\n",
    "        label_list[i]=labels[0]\n",
    "\n",
    "color_list = list(label_list.values())\n",
    "print(color_list)\n",
    "pos = nx.spring_layout(network)\n",
    "nx.draw_networkx(network,pos,with_labels=False)\n",
    "  # positions for all nodes\n",
    "nx.draw_networkx_labels(network, pos, label_list, font_size=10)\n",
    "plt.tight_layout()\n",
    "plt.axis(\"off\")\n",
    "plt.show()\n",
    "\n",
    "# Counts the number of unique labels to see how many numbers are used\n",
    "unique_labels = []\n",
    "count = 0\n",
    "\n",
    "for item in color_list:\n",
    "    if item not in unique_labels:\n",
    "        count += 1\n",
    "        unique_labels.append(item)\n",
    " \n",
    "print(\"No of unique labels are:\", count)\n",
    "span=max(color_list)-min(color_list)+1 #Plus 1 since we always start with zero\n",
    "print(\"The span is:\", span)\n"
   ]
  }
 ],
 "metadata": {
  "kernelspec": {
   "display_name": "Python 3.9.13 64-bit (microsoft store)",
   "language": "python",
   "name": "python3"
  },
  "language_info": {
   "codemirror_mode": {
    "name": "ipython",
    "version": 3
   },
   "file_extension": ".py",
   "mimetype": "text/x-python",
   "name": "python",
   "nbconvert_exporter": "python",
   "pygments_lexer": "ipython3",
   "version": "3.9.13"
  },
  "orig_nbformat": 4,
  "vscode": {
   "interpreter": {
    "hash": "934c2a8cde709b1b8b86eed097aa0e72366bc61e721eaa4ffba0664bbaff2fad"
   }
  }
 },
 "nbformat": 4,
 "nbformat_minor": 2
}

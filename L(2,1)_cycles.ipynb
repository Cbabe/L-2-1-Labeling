{
 "cells": [
  {
   "cell_type": "code",
   "execution_count": 6,
   "metadata": {},
   "outputs": [],
   "source": [
    "import networkx as nx \n",
    "import matplotlib.pyplot as plt \n",
    "def create_cycle(num):\n",
    "    \"\"\"\n",
    "    Return networkx cycle  with a specifed number of vertices\n",
    "\n",
    "    Args:\n",
    "        num: number of vertices\n",
    "\n",
    "    Returns:\n",
    "        A networkx graph of a cycle with num vertices.\n",
    "    \"\"\"\n",
    "    network = nx.Graph() # Creating the graph and adding nodes\n",
    "    nodes = range(num) # Creating list of number labels for each node\n",
    "    network.add_nodes_from(nodes) # Creating nodes\n",
    "    nx.add_cycle(network, nx.nodes(network)) # Adding edges to make a cycle out of all nodes in the network\n",
    "    return nx.Graph(network)\n"
   ]
  },
  {
   "cell_type": "code",
   "execution_count": 7,
   "metadata": {},
   "outputs": [],
   "source": [
    "def label_cycles_greedy(network):\n",
    "    \"\"\"\n",
    "    Greedy algorithm for L(2,1) labeling any cycle graph\n",
    "\n",
    "    Args:\n",
    "        tree: a networkx full cycle graph \n",
    "\n",
    "    Returns:\n",
    "        A dictionary of labels for every node of the cycle provided\n",
    "    \"\"\"\n",
    "    node_list = list(nx.nodes(network)) # A list of numbers with each number representing a node\n",
    "    # Creates a dictionary with the keys being the nodes number and the value the frequency assigned to the node\n",
    "    label_list = dict.fromkeys(node_list)\n",
    "    for i in node_list: # Iterate through each node in the in the graph\n",
    "        neighbors_list = list(nx.all_neighbors(network, i)) # Find all the neighbors to the node\n",
    "        bad_list=[] # Initialize list of frequency the node can not be\n",
    "        for k in neighbors_list: # Iterates through the adjacent nodes\n",
    "            if label_list[k] is not None: # If the adjacent nodes are assigned a frequency add frequencies to bad frequencies\n",
    "                bad_list.append(label_list[k]) # The original node cannot be the same as the adjunct\n",
    "                bad_list.append(label_list[k]+1) # The original node cannot be one frequency away above from the adjacent nodes frequency\n",
    "                bad_list.append(label_list[k]-1) # The original node cannot be one frequency away below from the adjacent nodes frequency\n",
    "            secondary_neighbor = list(nx.all_neighbors(network, k)) # List of nodes that are adjacent to the adjacent node\n",
    "            for j in secondary_neighbor: # Iterate through adjacent to adjacent nodes\n",
    "                if label_list[j] is not None: #If the adjacent to adjacent node exists add it to the bad frequencies\n",
    "                    bad_list.append(label_list[j])  # The original node cannot be the same as the adjacent to adjacent node\n",
    "        if bad_list == []: # If there are no adjacent or adjacent to adjacent nodes set the frequency to 0\n",
    "            label_list[i]=0 # Set the nodes frequency to 0\n",
    "        else:\n",
    "            possible_color=range(0,max(bad_list)+2) # List of possible frequencies to choose from, 0 to highest frequency plus 1\n",
    "            label_list[i]= [x for x in possible_color if x not in bad_list][0] # Find the lowest possible frequency that is not in the bad list and can be used\n",
    "    return label_list"
   ]
  },
  {
   "cell_type": "code",
   "execution_count": 14,
   "metadata": {},
   "outputs": [
    {
     "name": "stdout",
     "output_type": "stream",
     "text": [
      "[0, 2, 4, 0, 2, 4, 1, 3]\n",
      "The span is: 5\n"
     ]
    },
    {
     "data": {
      "image/png": "[encoded data removed]",
      "text/plain": [
       "<Figure size 432x288 with 1 Axes>"
      ]
     },
     "metadata": {},
     "output_type": "display_data"
    }
   ],
   "source": [
    "number_of_nodes=8 # Number of nodes in Cycle\n",
    "network = create_cycle(number_of_nodes) # Create Cycle\n",
    "label_list = label_cycles_greedy(network) # Call Labeling function\n",
    "frequencies_list = list(label_list.values()) # list of the frequencies assigned to nodes\n",
    "print(frequencies_list) # Print out list\n",
    "pos = nx.spring_layout(network) # Create NetworkX layout\n",
    "nx.draw_networkx(network,pos,with_labels=False) # Create NetworkX graph visual\n",
    "nx.draw_networkx_labels(network, pos, label_list, font_size=10) # Create frequency labels NetworkX graph visual\n",
    "span=max(frequencies_list)-min(frequencies_list)+1 #The span of frequencies used including 0\n",
    "print(\"The span is:\", span) # Print span"
   ]
  },
  {
   "cell_type": "code",
   "execution_count": 9,
   "metadata": {},
   "outputs": [],
   "source": [
    "def label_cycles_algorithm(network):\n",
    "    \"\"\"\n",
    "    Pattern algorithm for L(2,1) labeling any cycle graph\n",
    "\n",
    "    Args:\n",
    "        tree: a networkx full cycle graph \n",
    "\n",
    "    Returns:\n",
    "        A dictionary of labels for every node of the cycle provided\n",
    "    \"\"\"\n",
    "    node_list = list(nx.nodes(network))# A list of numbers with each number representing a node\n",
    "    # Creates a dictionary with the keys being the nodes number and the value of the frequency assigned to the node\n",
    "    label_list = dict.fromkeys(node_list)\n",
    "    labels=[] # List of frequency labels for nodes\n",
    "    if number_of_nodes>=5: # If the number of nodes is great or equal to five\n",
    "        number_of_threes=int(number_of_nodes/3) # The number of nodes divided by 3 with no remainder\n",
    "        for i in range(number_of_threes): # Adds three labels for each 3 that can be divided into the number of nodes\n",
    "            labels=labels+[0,2,4] # Adds the numbers 0, 2, and 4 in that order to the list of frequency labels\n",
    "            print(\"Add 0, 2, 4\") # Prints the numbers added\n",
    "        remander=number_of_nodes%3 # Finds the remainder of the number of nodes divided by 3\n",
    "        if remander==1: # If the remander is 1\n",
    "            # Removes the last three labels 0, 2, and 4 from the list\n",
    "            # replaces them with 0, 3, 1, and 4\n",
    "            labels=labels[:-3]+[0,3,1,4]\n",
    "            print(\"Delete 0, 2, 4\") # Prints numbers deleted\n",
    "            print(\"Add 0, 3, 1, 4\") # Prints numbers added\n",
    "        elif remander==2: # If the remander is 2\n",
    "            labels=labels+[1,3] # Adds the numbers 1 and 3 in that order to the list of frequency labels.\n",
    "            print(\"Add 1, 3\") # Prints numbers added\n",
    "    for i in range(number_of_nodes): # converts labels into a dictionary\n",
    "        label_list[i]=labels[i]\n",
    "    return label_list"
   ]
  },
  {
   "cell_type": "code",
   "execution_count": 15,
   "metadata": {},
   "outputs": [
    {
     "name": "stdout",
     "output_type": "stream",
     "text": [
      "Add 0, 2, 4\n",
      "Add 0, 2, 4\n",
      "Delete 0, 2, 4\n",
      "Add 0, 3, 1, 4\n",
      "[0, 2, 4, 0, 3, 1, 4]\n",
      "[0, 2, 4, 0, 3, 1, 4]\n",
      "The span is: 5\n"
     ]
    },
    {
     "data": {
      "image/png": "[encoded data removed]",
      "text/plain": [
       "<Figure size 432x288 with 1 Axes>"
      ]
     },
     "metadata": {},
     "output_type": "display_data"
    }
   ],
   "source": [
    "number_of_nodes=7 # Number of nodes in Cycle\n",
    "network = create_cycle(number_of_nodes) # Create Cycle\n",
    "label_list = label_cycles_algorithm(network) # Call Labeling function\n",
    "frequencies_list = list(label_list.values()) # list of the frequencies assigned to nodes\n",
    "print(frequencies_list) # Print out list\n",
    "pos = nx.spring_layout(network) # Create NetworkX layout\n",
    "nx.draw_networkx(network,pos,with_labels=False) # Create NetworkX graph visual\n",
    "nx.draw_networkx_labels(network, pos, label_list, font_size=10) # Create frequency labels NetworkX graph visual\n",
    "span=max(frequencies_list)-min(frequencies_list)+1 #The span of frequencies used including 0\n",
    "print(\"The span is:\", span) # Print span"
   ]
  }
 ],
 "metadata": {
  "kernelspec": {
   "display_name": "Python 3.9.13 64-bit (microsoft store)",
   "language": "python",
   "name": "python3"
  },
  "language_info": {
   "codemirror_mode": {
    "name": "ipython",
    "version": 3
   },
   "file_extension": ".py",
   "mimetype": "text/x-python",
   "name": "python",
   "nbconvert_exporter": "python",
   "pygments_lexer": "ipython3",
   "version": "3.9.13 (tags/v3.9.13:6de2ca5, May 17 2022, 16:36:42) [MSC v.1929 64 bit (AMD64)]"
  },
  "orig_nbformat": 4,
  "vscode": {
   "interpreter": {
    "hash": "934c2a8cde709b1b8b86eed097aa0e72366bc61e721eaa4ffba0664bbaff2fad"
   }
  }
 },
 "nbformat": 4,
 "nbformat_minor": 2
}
